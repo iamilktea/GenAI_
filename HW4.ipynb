{
  "nbformat": 4,
  "nbformat_minor": 0,
  "metadata": {
    "colab": {
      "provenance": []
    },
    "kernelspec": {
      "name": "python3",
      "display_name": "Python 3"
    },
    "language_info": {
      "name": "python"
    }
  },
  "cells": [
    {
      "cell_type": "markdown",
      "source": [
        "# HW4_程式練習 (II)"
      ],
      "metadata": {
        "id": "bQ6YkMLxXGQt"
      }
    },
    {
      "cell_type": "markdown",
      "source": [
        "## 題目一 (25%)\n",
        "\n",
        "\n",
        "以下有一個 list：\n",
        "\n",
        "```\n",
        "numbers = [51, 30, 78, 20, 96, 40, 62]\n",
        "```\n",
        "\n",
        "### 任務內容\n",
        "1. 印出該 list 中的第 1 個數字、第 3 個數字與最後一個數字。\n",
        "2. 印出 list 中的最大值與最小值。\n",
        "3. 將 list 中的數字由小到大排序後印出。\n",
        "4. 計算並印出總和與平均值（平均值保留到小數點第 2 位）。\n",
        "5. 將大於等於 50 的數字存入新的 list，並印出此 list。\n",
        "\n",
        "\n"
      ],
      "metadata": {
        "id": "kXpZGNHGXhs1"
      }
    },
    {
      "cell_type": "code",
      "execution_count": 11,
      "metadata": {
        "id": "zSvt9ox6WwQe",
        "colab": {
          "base_uri": "https://localhost:8080/"
        },
        "outputId": "305a8f89-9b0b-4194-86ad-54e166b0ff79"
      },
      "outputs": [
        {
          "output_type": "stream",
          "name": "stdout",
          "text": [
            "51\n",
            "78\n",
            "62\n",
            "96\n",
            "20\n",
            "[20, 30, 40, 51, 62, 78, 96]\n",
            "377\n",
            "53.86\n",
            "[51, 78, 96, 62]\n"
          ]
        }
      ],
      "source": [
        "numbers= [51, 30, 78, 20, 96, 40, 62]\n",
        "print(numbers[0])\n",
        "print(numbers[2])\n",
        "print(numbers[-1])\n",
        "print(max(numbers))\n",
        "print(min(numbers))\n",
        "sorted_numbers= sorted(numbers)\n",
        "print(sorted_numbers)\n",
        "total= sum(numbers)\n",
        "average= round(total/len(numbers),2)\n",
        "print(total)\n",
        "print(average)\n",
        "New_list= [num for num in numbers if num >= 50]\n",
        "print(New_list)"
      ]
    },
    {
      "cell_type": "markdown",
      "source": [
        "## 題目二 (25%)\n",
        "\n",
        "以下為一個包含亞洲國家及其首都的字典，但其中有一些錯誤資訊：\n",
        "\n",
        "```\n",
        "asian_countries = {\n",
        "    'Taiwan': 'Taipei',\n",
        "    'Japan': 'Tokyo',\n",
        "    'South Korea': 'Seoul',\n",
        "    'Myanmar': 'Yangon',\n",
        "    'Germany': 'Berlin'\n",
        "    }\n",
        "```\n",
        "\n",
        "### 任務內容\n",
        "1. 將 `asian_countries` 印出來：\n",
        "```\n",
        "print('舊字典:', asian_countries)\n",
        "```\n",
        "2.  更新 `asian_countries`：\n",
        "    - 將 Myanmar 的首都更正為 Naypyidaw\n",
        "    - 將 Germany 從字典中移除\n",
        "    - 將 Thailand 及其首都 Bangkok 新增到字典中\n",
        "\n",
        "  ```\n",
        "  print('新字典:', asian_countries)\n",
        "  ```\n",
        "3. 將國家按照字母排序，並將排序後的結果指派給一個變數 `sorted_asian_countries` 。\n",
        "  ```\n",
        "  print('排序後新字典:', sorted_asian_countries)\n",
        "  ```"
      ],
      "metadata": {
        "id": "jbgV6MGtXidj"
      }
    },
    {
      "cell_type": "code",
      "source": [
        "asian_countries ={\n",
        "    'Taiwan': 'Taipei',\n",
        "    'Japan': 'Tokyo',\n",
        "    'South Korea': 'Seoul',\n",
        "    'Myanmar': 'Yangon',\n",
        "    'Germany': 'Berlin'\n",
        "  }\n",
        "print('舊字典:',asian_countries)\n",
        "\n",
        "asian_countries['Myanmar']='Naypyidaw'\n",
        "\n",
        "asian_countries.pop('Germany')\n",
        "\n",
        "asian_countries['Thailand']='Bangkok'\n",
        "\n",
        "print('新字典:',asian_countries)\n",
        "\n",
        "sorted_asian_countries= dict(sorted(asian_countries.items()))\n",
        "\n",
        "print('排序後新字典:',sorted_asian_countries)"
      ],
      "metadata": {
        "id": "Tq6zcAohXi6P",
        "colab": {
          "base_uri": "https://localhost:8080/"
        },
        "outputId": "1c64c69c-c674-42fe-8870-b3c58fb82b18"
      },
      "execution_count": 16,
      "outputs": [
        {
          "output_type": "stream",
          "name": "stdout",
          "text": [
            "舊字典: {'Taiwan': 'Taipei', 'Japan': 'Tokyo', 'South Korea': 'Seoul', 'Myanmar': 'Yangon', 'Germany': 'Berlin'}\n",
            "新字典: {'Taiwan': 'Taipei', 'Japan': 'Tokyo', 'South Korea': 'Seoul', 'Myanmar': 'Naypyidaw', 'Thailand': 'Bangkok'}\n",
            "排序後新字典: {'Japan': 'Tokyo', 'Myanmar': 'Naypyidaw', 'South Korea': 'Seoul', 'Taiwan': 'Taipei', 'Thailand': 'Bangkok'}\n"
          ]
        }
      ]
    },
    {
      "cell_type": "markdown",
      "source": [
        "## 題目三 (25%)\n",
        "\n",
        "班上有 4 位學生，他們分別有 3 科的考試成績，資料如下：\n",
        "\n",
        "```python\n",
        "scores = {\n",
        "    \"Linda\": [85, 90, 78],\n",
        "    \"Richard\": [72, 88, 91],\n",
        "    \"Una\": [90, 85, 87],\n",
        "    \"Brian\": [60, 75, 70]\n",
        "}\n",
        "```\n",
        "\n",
        "### 任務內容\n",
        "1. 計算每位學生的平均分數。\n",
        "2. 根據平均分數，判斷每位學生的成績評語：\n",
        "  - 平均分數 ≥ 85，評語為「優秀」\n",
        "  - 平均分數 ≥ 70 且 < 85，評語為「及格」\n",
        "  - 平均分數 < 70，評語為「需加強」\n",
        "\n",
        "3. 請印出每位學生的「平均分數」與「評語」。\n",
        "4. 額外統計：\n",
        "  - 計算全班的「總平均分數」。\n",
        "  - 找出「平均分數最高的學生」並印出其姓名與平均分數。\n",
        "\n",
        "\n"
      ],
      "metadata": {
        "id": "Hx3rNLDcZ-wy"
      }
    },
    {
      "cell_type": "code",
      "source": [
        "scores= {\n",
        "    \"Linda\": [85, 90, 78],\n",
        "    \"Richard\": [72, 88, 91],\n",
        "    \"Una\": [90, 85, 87],\n",
        "    \"Brian\": [60, 75, 70]\n",
        "  }\n",
        "averages= {}\n",
        "comments= {}\n",
        "\n",
        "for name, marks in scores.items():\n",
        "    avg = sum(marks)/len(marks)\n",
        "    averages[name]=avg\n",
        "\n",
        "    if avg >= 85:\n",
        "        comments[name]=\"優秀\"\n",
        "    elif avg >= 70:\n",
        "        comments[name]=\"及格\"\n",
        "    else:\n",
        "        comments[name]=\"需加強\"\n",
        "\n",
        "for name in scores:\n",
        "    print(f\"{name}的平均分數為{averages[name]:.2f}，評語為：{comments[name]}\")\n",
        "\n",
        "class_avg= sum(averages.values())/len(averages)\n",
        "print(f\"\\n全班總平均分數為：{class_avg:.2f}\")\n",
        "\n",
        "top_student= max(averages, key=averages.get)\n",
        "print(f\"平均分數最高的學生是：{top_student}，平均分數為：{averages[top_student]:.2f}\")"
      ],
      "metadata": {
        "id": "bOx8kovoZ-_V",
        "colab": {
          "base_uri": "https://localhost:8080/"
        },
        "outputId": "68b6c8d5-8573-4af6-a0a7-c9f1133c71a8"
      },
      "execution_count": 17,
      "outputs": [
        {
          "output_type": "stream",
          "name": "stdout",
          "text": [
            "Linda的平均分數為84.33，評語為：及格\n",
            "Richard的平均分數為83.67，評語為：及格\n",
            "Una的平均分數為87.33，評語為：優秀\n",
            "Brian的平均分數為68.33，評語為：需加強\n",
            "\n",
            "全班總平均分數為：80.92\n",
            "平均分數最高的學生是：Una，平均分數為：87.33\n"
          ]
        }
      ]
    },
    {
      "cell_type": "markdown",
      "source": [
        "## 題目四 (25%)\n",
        "\n",
        "我們假設一組有效的密碼必須符合以下條件：\n",
        "\n",
        "- 長度大於 5 個字元\n",
        "- 必須包含：\n",
        "   - 大寫英文字母\n",
        "   - 小寫英文字母\n",
        "   - 數字\n",
        "- 不可以有空白  \n",
        "<br/>\n",
        "\n",
        "### 任務內容\n",
        "1. 請針對以上條件，撰寫一個函數 `check_password()`，判斷傳入的字串是否為有效密碼。如果輸入為有效密碼，函數將回傳 `Valid Password`；如果是無效密碼，函數回傳 `INVALID`。\n",
        "2. 請使用你的函數印出以下結果  \n",
        "```\n",
        "check_password(\"GenAI4Humanities\")\n",
        "check_password(\"genai4humanities\")\n",
        "check_password(\"GENAI4HUMANITIES\")\n",
        "check_password(\"GenAIGenAI\")\n",
        "check_password(\"GenAI 2025\")\n",
        "check_password(\"GenAI\")\n",
        "```"
      ],
      "metadata": {
        "id": "zSAycbMmZ_Ur"
      }
    },
    {
      "cell_type": "code",
      "source": [
        "def check_password(password):\n",
        "    if len(password) <= 5:\n",
        "        return \"INVALID\"\n",
        "    if \" \" in password:\n",
        "        return \"INVALID\"\n",
        "    if not any(c.isupper() for c in password):\n",
        "        return \"INVALID\"\n",
        "    if not any(c.islower() for c in password):\n",
        "        return \"INVALID\"\n",
        "    if not any(c.isdigit() for c in password):\n",
        "        return\"INVALID\"\n",
        "    return\"Valid Password\"\n",
        "\n",
        "print(check_password(\"GenAI4Humanities\"))\n",
        "print(check_password(\"genai4humanities\"))\n",
        "print(check_password(\"GENAI4HUMANITIES\"))\n",
        "print(check_password(\"GenAIGenAI\"))\n",
        "print(check_password(\"GenAI 2025\"))\n",
        "print(check_password(\"GenAI\"))"
      ],
      "metadata": {
        "id": "tvYzrt9BaDkr",
        "colab": {
          "base_uri": "https://localhost:8080/"
        },
        "outputId": "41e1e6e9-7d8e-4615-cc17-adafe56811c8"
      },
      "execution_count": 23,
      "outputs": [
        {
          "output_type": "stream",
          "name": "stdout",
          "text": [
            "Valid Password\n",
            "INVALID\n",
            "INVALID\n",
            "INVALID\n",
            "INVALID\n",
            "INVALID\n"
          ]
        }
      ]
    }
  ]
}